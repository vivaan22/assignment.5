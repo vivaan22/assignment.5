{
 "cells": [
  {
   "cell_type": "code",
   "execution_count": null,
   "id": "ddadc8fe",
   "metadata": {},
   "outputs": [],
   "source": [
    "def num(num):\n",
    "    for x in range(num):\n",
    "    lis = []\n",
    "    lis.append(x)\n",
    "    y = x + 1\n",
    "    lis.append(y)\n",
    "    return lis"
   ]
  },
  {
   "cell_type": "code",
   "execution_count": null,
   "id": "98cd0367",
   "metadata": {},
   "outputs": [],
   "source": [
    "function majorityVote(arr) {\n",
    "  let obj = {};\n",
    "  if (!arr.length) {\n",
    "    return null;\n",
    "  }\n",
    "  let set = new Set(arr);\n",
    "  if (set.size === 1) {\n",
    "    return arr[0];\n",
    "  }\n",
    "  for (let vote of arr) {\n",
    "    if (obj[vote]) {\n",
    "      obj[vote] += 1;\n",
    "    } else {\n",
    "      obj[vote] = 1;\n",
    "    }\n",
    "  }\n",
    "  let sol = Object.entries(obj).sort((a, b) => b[1] - a[1]);\n",
    "  return sol[0][1] == sol[sol.length - 1][1] ? null : sol[0][0];\n",
    "}"
   ]
  },
  {
   "cell_type": "code",
   "execution_count": null,
   "id": "6699072f",
   "metadata": {},
   "outputs": [],
   "source": [
    "def censor_string(text, censorlst, replacer):\n",
    "\n",
    "    word_list = text.split()\n",
    "    for censor in censorlst:\n",
    "        index = 0\n",
    "            for word in word_list:\n",
    "            if censor.lower() == word.lower():\n",
    "                ch = len(censor) * replacer\n",
    "                word_list[index] = ch\n",
    "            elif censor.lower() == word[0:-1].lower():\n",
    "                ch = len(censor) * replacer\n",
    "                word_list[index] = ch+word[-1]\n",
    "            index+=1\n",
    "\n",
    "return \" \".join(word_list)\n",
    "censor_string('Today is a Wednesday!', ['Today', 'a'], '-')\n",
    "censor_string('The cow jumped over the moon.', ['cow', 'over'], '*')\n",
    "censor_string('Why did the chicken cross the road?', ['Did', 'chicken','road'], '*')"
   ]
  },
  {
   "cell_type": "code",
   "execution_count": null,
   "id": "c37deb4d",
   "metadata": {},
   "outputs": [],
   "source": [
    "def polydivisible(x):\n",
    "    x = str(x)\n",
    "    for i in range(len(x)):\n",
    "        if int(x[:i+1]) % (i+1) != 0:\n",
    "            return False\n",
    "    return True"
   ]
  },
  {
   "cell_type": "code",
   "execution_count": null,
   "id": "ff573ff0",
   "metadata": {},
   "outputs": [],
   "source": [
    "n = 20\n",
    "primes = []\n",
    "\n",
    "for i in range(2, n + 1):\n",
    "    for j in range(2, int(i ** 0.5) + 1):\n",
    "    if i%j == 0:\n",
    "    break\n",
    "else:\n",
    "primes.append(i)\n",
    "\n",
    "print(primes)"
   ]
  }
 ],
 "metadata": {
  "kernelspec": {
   "display_name": "Python 3",
   "language": "python",
   "name": "python3"
  },
  "language_info": {
   "codemirror_mode": {
    "name": "ipython",
    "version": 3
   },
   "file_extension": ".py",
   "mimetype": "text/x-python",
   "name": "python",
   "nbconvert_exporter": "python",
   "pygments_lexer": "ipython3",
   "version": "3.8.8"
  }
 },
 "nbformat": 4,
 "nbformat_minor": 5
}
